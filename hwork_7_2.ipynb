{
 "cells": [
  {
   "cell_type": "code",
   "execution_count": 210,
   "metadata": {
    "collapsed": true
   },
   "outputs": [],
   "source": [
    "from selenium import webdriver\n",
    "from selenium.webdriver.support.ui import Select\n",
    "from time import*\n",
    "from BeautifulSoup import * \n",
    "import requests\n",
    "browser = webdriver.Chrome()\n",
    "url = \"https://staff.am/en\"\n",
    "browser.get(url)\n"
   ]
  },
  {
   "cell_type": "code",
   "execution_count": 211,
   "metadata": {
    "collapsed": false
   },
   "outputs": [],
   "source": [
    "from BeautifulSoup import *\n",
    "trainings=browser.find_element_by_xpath('//*[@id=\"menu-header\"]/li[2]/a')\n",
    "trainings.click()\n",
    "soup = browser.page_source"
   ]
  },
  {
   "cell_type": "code",
   "execution_count": 212,
   "metadata": {
    "collapsed": true
   },
   "outputs": [],
   "source": [
    "page_2 = browser.find_element_by_xpath('//*[@id=\"job-list-pagination\"]/ul/li[3]/a')\n",
    "page_2.click()\n",
    "soup_1=browser.page_source\n",
    "page_3 = browser.find_element_by_xpath('//*[@id=\"job-list-pagination\"]/ul/li[4]/a')\n",
    "page_3.click()\n",
    "soup_2=browser.page_source\n",
    "browser.close()\n"
   ]
  },
  {
   "cell_type": "code",
   "execution_count": 213,
   "metadata": {
    "collapsed": false
   },
   "outputs": [],
   "source": [
    "trainings=[]\n",
    "soups=[soup,soup_1,soup_2]\n",
    "for i in soups:\n",
    "    soup = BeautifulSoup(i)\n",
    "    titls=soup.findAll('div',attrs={'class':\"job-inner training-item-title\"})    \n",
    "    for i in titls:\n",
    "        if i.find('span')==None:\n",
    "            trainings.append(i.find('h4').text +\" - \" +i.find('p').text + \"- \"+ \"0 AMD\")\n",
    "        else:\n",
    "            trainings.append(i.find('h4').text +\" - \" +i.find('p').text + \"- \"+ i.find('span').text + \" AMD\")\n",
    "    "
   ]
  },
  {
   "cell_type": "code",
   "execution_count": 221,
   "metadata": {
    "collapsed": false
   },
   "outputs": [
    {
     "data": {
      "text/plain": [
       "[u'\\u0556\\u0540\\u0544\\u054d \\u0533\\u0548\\u0550\\u053e\\u0548\\u0542 \\u0544\\u0531\\u054d\\u0546\\u0531\\u0533\\u0535\\u054f\\u0546\\u0535\\u0550\\u053b \\u0540\\u0531\\u0544\\u0531\\u0550, \\u0544\\u0548\\u0534\\u0548\\u0552\\u053c 2 - IAB International Academy of Business- 84,000 AMD',\n",
       " u'Advanced Course on Value Added Tax VAT for Professionals - IAB International Academy of Business- 48,000 AMD',\n",
       " u'Effective selling skills - IAB International Academy of Business- 50,000 AMD',\n",
       " u'UI/UX Design - Microsoft Innovation Center- 69,000 AMD',\n",
       " u'Sales Strategies: Mastering the Selling Process - Coursera- 0 AMD',\n",
       " u'Software Product Management Specialization - Coursera- 0 AMD',\n",
       " u'Digital Analytics for Marketing Professionals: Marketing Analytics in Practice - Coursera- 0 AMD',\n",
       " u'Principles of Machine Learning - edX- 0 AMD',\n",
       " u'Introduction to User Experience Design - Coursera- 0 AMD',\n",
       " u'Data Science Essentials - edX- 0 AMD',\n",
       " u'Data Science Specialization - Coursera- 0 AMD',\n",
       " u'C#, Level 2 - Object-Oriented Programming - Microsoft Innovation Center- 73,000 AMD',\n",
       " u'C#, Level I - Microsoft Innovation Center- 52,000 AMD',\n",
       " u'QA Expert :Software Testing + Bugzilla + SQL + Agile+ Unix - Udemy- 96,000 AMD',\n",
       " u'Event Manager Preparation - Quick Start- 45,000 AMD',\n",
       " u'The Complete Digital Marketing Course 2017 - Udemy- 96,000 AMD',\n",
       " u'PROJECT MANAGEMENT PROFESSIONAL (PMP)\\xae CERTIFICATION EXAM PREP COURSE - AUA Extension- 125,000 AMD',\n",
       " u'Complete Java Masterclass - Udemy- 4,800 AMD',\n",
       " u'Business English Specialization - Coursera- 0 AMD',\n",
       " u'IT Project Management - Coursera- 0 AMD',\n",
       " u'Preparing to Manage Human Resources - Coursera- 0 AMD']"
      ]
     },
     "execution_count": 221,
     "metadata": {},
     "output_type": "execute_result"
    }
   ],
   "source": [
    "trainings"
   ]
  },
  {
   "cell_type": "code",
   "execution_count": 214,
   "metadata": {
    "collapsed": true
   },
   "outputs": [],
   "source": [
    "z=str(trainings)"
   ]
  },
  {
   "cell_type": "code",
   "execution_count": 215,
   "metadata": {
    "collapsed": true
   },
   "outputs": [],
   "source": [
    "import re"
   ]
  },
  {
   "cell_type": "code",
   "execution_count": 216,
   "metadata": {
    "collapsed": false
   },
   "outputs": [
    {
     "name": "stdout",
     "output_type": "stream",
     "text": [
      "['84000', '48000', '50000', '69000', '0', '0', '0', '0', '0', '0', '0', '73000', '52000', '96000', '45000', '96000', '125000', '4800', '0', '0', '0']\n"
     ]
    }
   ],
   "source": [
    "xz=re.sub(r',', r'',z)\n",
    "zx=re.findall('-\\s([0-9]+)',xz)\n",
    "\n",
    "print(zx)"
   ]
  },
  {
   "cell_type": "code",
   "execution_count": 217,
   "metadata": {
    "collapsed": false
   },
   "outputs": [],
   "source": [
    "prices=[]\n",
    "for i in zx:\n",
    "    prices.append(int(i))"
   ]
  },
  {
   "cell_type": "code",
   "execution_count": 218,
   "metadata": {
    "collapsed": false
   },
   "outputs": [
    {
     "data": {
      "text/plain": [
       "[84000,\n",
       " 48000,\n",
       " 50000,\n",
       " 69000,\n",
       " 0,\n",
       " 0,\n",
       " 0,\n",
       " 0,\n",
       " 0,\n",
       " 0,\n",
       " 0,\n",
       " 73000,\n",
       " 52000,\n",
       " 96000,\n",
       " 45000,\n",
       " 96000,\n",
       " 125000,\n",
       " 4800,\n",
       " 0,\n",
       " 0,\n",
       " 0]"
      ]
     },
     "execution_count": 218,
     "metadata": {},
     "output_type": "execute_result"
    }
   ],
   "source": [
    "prices"
   ]
  },
  {
   "cell_type": "code",
   "execution_count": 219,
   "metadata": {
    "collapsed": false
   },
   "outputs": [],
   "source": [
    "av_price=sum(prices)/len(prices)"
   ]
  },
  {
   "cell_type": "code",
   "execution_count": 220,
   "metadata": {
    "collapsed": false
   },
   "outputs": [
    {
     "data": {
      "text/plain": [
       "35371"
      ]
     },
     "execution_count": 220,
     "metadata": {},
     "output_type": "execute_result"
    }
   ],
   "source": [
    "av_price"
   ]
  },
  {
   "cell_type": "code",
   "execution_count": null,
   "metadata": {
    "collapsed": true
   },
   "outputs": [],
   "source": []
  }
 ],
 "metadata": {
  "kernelspec": {
   "display_name": "Python 2",
   "language": "python",
   "name": "python2"
  },
  "language_info": {
   "codemirror_mode": {
    "name": "ipython",
    "version": 2
   },
   "file_extension": ".py",
   "mimetype": "text/x-python",
   "name": "python",
   "nbconvert_exporter": "python",
   "pygments_lexer": "ipython2",
   "version": "2.7.13"
  }
 },
 "nbformat": 4,
 "nbformat_minor": 2
}
